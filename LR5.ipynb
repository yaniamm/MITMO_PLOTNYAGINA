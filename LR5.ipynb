{
 "cells": [
  {
   "cell_type": "markdown",
   "id": "4011e134",
   "metadata": {},
   "source": [
    "# Лабораторная работа №5: Методы, основанные на деревьях решений. Регрессионные деревья. Деревья классификации. Случайный лес. Бустинг.\n",
    "В практических примерах ниже показано:\n",
    "+ как делать перекодировку признаков в номинальной и порядковой шкалах\n",
    "+ как вырастить дерево и сделать обрезку его ветвей\n",
    "+ как настроить модель бэггинга\n",
    "+ как вырастить случайный лес\n",
    "+ как настроить модель бустинга на деревьях решений\n",
    "+ как подбирать настроенные параметры моделей методом сеточного поиска\n",
    "Точность всех моделей оценивается методом перекрёстной проверки по 5 блокам."
   ]
  },
  {
   "cell_type": "markdown",
   "id": "1b6ba3dc",
   "metadata": {},
   "source": [
    "# Загружаем пакеты"
   ]
  },
  {
   "cell_type": "code",
   "execution_count": 1,
   "id": "f307626e",
   "metadata": {},
   "outputs": [
    {
     "name": "stdout",
     "output_type": "stream",
     "text": [
      "0.20.0\n"
     ]
    }
   ],
   "source": [
    "import sklearn\n",
    "print(sklearn.__version__)"
   ]
  },
  {
   "cell_type": "code",
   "execution_count": 2,
   "id": "6c77cdbc",
   "metadata": {
    "scrolled": false
   },
   "outputs": [
    {
     "ename": "ImportError",
     "evalue": "cannot import name 'plot_tree'",
     "output_type": "error",
     "traceback": [
      "\u001b[1;31m---------------------------------------------------------------------------\u001b[0m",
      "\u001b[1;31mImportError\u001b[0m                               Traceback (most recent call last)",
      "\u001b[1;32m<ipython-input-2-c630feac10f0>\u001b[0m in \u001b[0;36m<module>\u001b[1;34m()\u001b[0m\n\u001b[0;32m     24\u001b[0m \u001b[1;31m# загрузка пакетов: модели -------------------------------------------------\u001b[0m\u001b[1;33m\u001b[0m\u001b[1;33m\u001b[0m\u001b[0m\n\u001b[0;32m     25\u001b[0m \u001b[1;31m# дерево классификации\u001b[0m\u001b[1;33m\u001b[0m\u001b[1;33m\u001b[0m\u001b[0m\n\u001b[1;32m---> 26\u001b[1;33m \u001b[1;32mfrom\u001b[0m \u001b[0msklearn\u001b[0m\u001b[1;33m.\u001b[0m\u001b[0mtree\u001b[0m \u001b[1;32mimport\u001b[0m \u001b[0mDecisionTreeClassifier\u001b[0m\u001b[1;33m,\u001b[0m \u001b[0mplot_tree\u001b[0m\u001b[1;33m,\u001b[0m \u001b[0mexport_text\u001b[0m\u001b[1;33m\u001b[0m\u001b[0m\n\u001b[0m\u001b[0;32m     27\u001b[0m \u001b[1;31m# перекрёстная проверка и метод проверочной выборки\u001b[0m\u001b[1;33m\u001b[0m\u001b[1;33m\u001b[0m\u001b[0m\n\u001b[0;32m     28\u001b[0m \u001b[1;32mfrom\u001b[0m \u001b[0msklearn\u001b[0m\u001b[1;33m.\u001b[0m\u001b[0mmodel_selection\u001b[0m \u001b[1;32mimport\u001b[0m \u001b[0mcross_val_score\u001b[0m\u001b[1;33m,\u001b[0m \u001b[0mtrain_test_split\u001b[0m\u001b[1;33m\u001b[0m\u001b[0m\n",
      "\u001b[1;31mImportError\u001b[0m: cannot import name 'plot_tree'"
     ]
    }
   ],
   "source": [
    "# загрузка пакетов: инструменты --------------------------------------------\n",
    "# работа с массивами\n",
    "import numpy as np\n",
    "# фреймы данных\n",
    "import pandas as pd\n",
    "# графики\n",
    "import matplotlib as mpl\n",
    "# стили и шаблоны графиков на основе matplotlib\n",
    "import seaborn as sns\n",
    "# загрузка файлов по URL\n",
    "import urllib\n",
    "# проверка существования файла на диске\n",
    "from pathlib import Path\n",
    "# для форматирования результатов с помощью Markdown\n",
    "from IPython.display import Markdown, display\n",
    "# перекодировка категориальных переменных\n",
    "from sklearn.preprocessing import OrdinalEncoder, OneHotEncoder\n",
    "# хи-квадрат тест на независимость по таблице сопряжённости\n",
    "from scipy.stats import chi2_contingency\n",
    "# для таймера\n",
    "import time\n",
    "# загрузка пакетов: данные -------------------------------------------------\n",
    "from sklearn import datasets\n",
    "# загрузка пакетов: модели -------------------------------------------------\n",
    "# дерево классификации\n",
    "from sklearn.tree import DecisionTreeClassifier, plot_tree, export_text\n",
    "# перекрёстная проверка и метод проверочной выборки\n",
    "from sklearn.model_selection import cross_val_score, train_test_split\n",
    "# для перекрёстной проверки и сеточного поиска\n",
    "from sklearn.model_selection import KFold, GridSearchCV\n",
    "# бэггинг\n",
    "from sklearn.ensemble import BaggingClassifier\n",
    "# случайный лес\n",
    "from sklearn.ensemble import RandomForestClassifier\n",
    "# бустинг\n",
    "from sklearn.ensemble import GradientBoostingClassifier\n",
    "# сводка по точности классификации\n",
    "from sklearn.metrics import classification_report"
   ]
  },
  {
   "cell_type": "code",
   "execution_count": null,
   "id": "fc4bc0fe",
   "metadata": {},
   "outputs": [],
   "source": [
    "# константы\n",
    "# ядро для генератора случайных чисел\n",
    "my_seed = 18\n",
    "# создаём псевдоним для короткого обращения к графикам\n",
    "plt = mpl.pyplot\n",
    "# настройка стиля и отображения графиков\n",
    "# примеры стилей и шаблонов графиков:\n",
    "# http://tonysyu.github.io/raw_content/matplotlib-style-gallery/gallery.html\n",
    "mpl.style.use('seaborn-whitegrid')\n",
    "sns.set_palette(\"Set2\")\n",
    "# раскомментируйте следующую строку, чтобы посмотреть палитру"
   ]
  },
  {
   "cell_type": "code",
   "execution_count": null,
   "id": "40d596a0",
   "metadata": {},
   "outputs": [],
   "source": [
    "# функция форматирования результатов с использованием Markdown\n",
    "def printmd(string):\n",
    " display(Markdown(string))\n",
    "\n",
    "# функции для попарной конкатенации элементов двух списков\n",
    "concat_func_md = lambda x, y: '`' + str(x) + \"`:&ensp;&ensp;&ensp;&ensp;\" + str(y)\n",
    "concat_func = lambda x, y: str(x) + ' ' * 4 + str(y)\n",
    "# функция, которая строит график важности признаков в модели случайного леса\n",
    "# источник: https://www.analyseup.com/learn-python-for-data-science/python-rand\n",
    "def plot_feature_importance(importance, names, model_type):\n",
    " #Create arrays from feature importance and feature names\n",
    " feature_importance = np.array(importance)\n",
    " feature_names = np.array(names)\n",
    " #Create a DataFrame using a Dictionary\n",
    " data={'feature_names':feature_names,'feature_importance':feature_importance}\n",
    " fi_df = pd.DataFrame(data)\n",
    " #Sort the DataFrame in order decreasing feature importance\n",
    " fi_df.sort_values(by=['feature_importance'], ascending=False,\n",
    " inplace=True)\n",
    " #Define size of bar plot\n",
    " plt.figure(figsize=(10,8))\n",
    " #Plot Searborn bar chart\n",
    " sns.barplot(x=fi_df['feature_importance'], y=fi_df['feature_names'])\n",
    " #Add chart labels\n",
    " plt.title('Важность признаков в модели: ' + model_type)\n",
    " plt.xlabel('Важность признака')\n",
    " plt.ylabel('')"
   ]
  },
  {
   "cell_type": "markdown",
   "id": "1dc82b29",
   "metadata": {},
   "source": [
    "# Загружаем данные:"
   ]
  },
  {
   "cell_type": "code",
   "execution_count": null,
   "id": "616faf1e",
   "metadata": {},
   "outputs": [],
   "source": [
    "fileURL = \"https://raw.githubusercontent.com/ania607/ML/main/data/default_of_credit_card_clients.csv\"\n",
    "DF_all = pd.read_csv(fileURL)\n",
    "# загружаем таблицу и превращаем её во фрейм\n",
    "# выясняем размерность фрейма\n",
    "print('Число строк и столбцов в наборе данных:\\n', DF_all.shape)"
   ]
  },
  {
   "cell_type": "markdown",
   "id": "59088bc5",
   "metadata": {},
   "source": [
    "### Откладываем 15% наблюдений для прогноза\n",
    "+ оставляем только нужные перменные"
   ]
  },
  {
   "cell_type": "code",
   "execution_count": null,
   "id": "7ced9186",
   "metadata": {},
   "outputs": [],
   "source": [
    "DF_all.drop(['PAY_4', 'PAY_5', 'PAY_6', 'BILL_AMT4', 'BILL_AMT5',\n",
    "             'BILL_AMT6', 'PAY_AMT1','PAY_AMT2', 'PAY_AMT3', 'PAY_AMT4','PAY_AMT5',\n",
    "             'PAY_AMT6'], axis=1, inplace=True)\n",
    "# наблюдения для моделирования\n",
    "DF = DF_all.sample(frac = 0.85, random_state = my_seed)\n",
    "# отложенные наблюдения\n",
    "DF_predict = DF_all.drop(DF.index)\n",
    "# первые 5 строк фрейма у первых 7 столбцов\n",
    "DF.iloc[:, :7].head(5)"
   ]
  },
  {
   "cell_type": "code",
   "execution_count": null,
   "id": "7727516d",
   "metadata": {},
   "outputs": [],
   "source": [
    "# первые 5 строк фрейма у столбцов 8-11\n",
    "DF.iloc[:, 7:11].head(5)"
   ]
  },
  {
   "cell_type": "code",
   "execution_count": null,
   "id": "fc5438f3",
   "metadata": {},
   "outputs": [],
   "source": [
    "# первые 5 строк фрейма у столбцов 12-14\n",
    "DF.iloc[:, 11:].head(5)"
   ]
  },
  {
   "cell_type": "code",
   "execution_count": null,
   "id": "73e3fa6c",
   "metadata": {},
   "outputs": [],
   "source": [
    "# типы столбцов фрейма\n",
    "DF.dtypes"
   ]
  },
  {
   "cell_type": "markdown",
   "id": "f265813a",
   "metadata": {},
   "source": [
    "Проверим, нет ли в таблице пропусков."
   ]
  },
  {
   "cell_type": "code",
   "execution_count": null,
   "id": "f97a05de",
   "metadata": {},
   "outputs": [],
   "source": [
    "# считаем пропуски в каждом столбце\n",
    "DF.isna().sum()"
   ]
  },
  {
   "cell_type": "markdown",
   "id": "0517b1b0",
   "metadata": {},
   "source": [
    "Пропусков не обнаружено."
   ]
  },
  {
   "cell_type": "markdown",
   "id": "63126e98",
   "metadata": {},
   "source": [
    "## Предварительный анализ данных\n",
    "### Описательные статистики\n",
    "Считаем доли классов целевой переменной ***Y*** ."
   ]
  },
  {
   "cell_type": "code",
   "execution_count": null,
   "id": "3cddf069",
   "metadata": {},
   "outputs": [],
   "source": [
    "# метки классов\n",
    "DF.Y.unique()"
   ]
  },
  {
   "cell_type": "code",
   "execution_count": null,
   "id": "60c208bb",
   "metadata": {},
   "outputs": [],
   "source": [
    "# доли классов\n",
    "np.around(DF.Y.value_counts() / len(DF.index), 3)"
   ]
  },
  {
   "cell_type": "markdown",
   "id": "e698348e",
   "metadata": {},
   "source": [
    "Итак, всего целевых классов два, и их доли сильно разняться, с перевесом в пользу класса\n",
    "'0'. Все объясняющие переменные набора данных непрерывные. Рассчитаем для них\n",
    "описательные статистики."
   ]
  },
  {
   "cell_type": "code",
   "execution_count": null,
   "id": "5d270e46",
   "metadata": {},
   "outputs": [],
   "source": [
    "# описательные статистики\n",
    "DF.iloc[:, :6].describe()"
   ]
  },
  {
   "cell_type": "code",
   "execution_count": null,
   "id": "fb281e40",
   "metadata": {},
   "outputs": [],
   "source": [
    "# описательные статистики\n",
    "DF.iloc[:, 6:11].describe()"
   ]
  },
  {
   "cell_type": "markdown",
   "id": "736332d9",
   "metadata": {},
   "source": [
    "Выводы по описательным статистикам: значения объясняющих переменных положительные кроме 'PAY_2', 'PAY_3'\n",
    "масштабы измерения отличаются. Для работы с методами снижения размерности и\n",
    "регуляризации понадобится стандартизация значений."
   ]
  },
  {
   "cell_type": "markdown",
   "id": "82b0447c",
   "metadata": {},
   "source": [
    "## Визуализация разброса переменных внутри классов\n",
    "Поскольку в наборе данных 11 объясняющих переменных, и все они непрерывные (кроме поля 'SEX'), анализ\n",
    "матричного графика разброса будет затруднительным. Построим коробчатые диаграммы для\n",
    "объясняющих переменных, чтобы сравнить средние уровни и разброс по классам."
   ]
  },
  {
   "cell_type": "code",
   "execution_count": null,
   "id": "69fb683c",
   "metadata": {},
   "outputs": [],
   "source": [
    "# создаём полотно и делим его на четыре части\n",
    "fig = plt.figure(figsize=(12, 5))\n",
    "gs = mpl.gridspec.GridSpec(1, 5)\n",
    "ax1 = plt.subplot(gs[0, 0])\n",
    "ax2 = plt.subplot(gs[0, 1])\n",
    "ax3 = plt.subplot(gs[0, 2])\n",
    "ax4 = plt.subplot(gs[0, 3])\n",
    "ax5 = plt.subplot(gs[0, 4])\n",
    "axs = [ax1, ax2, ax3, ax4, ax5]\n",
    "cols_loop = list(DF.columns[:5].values)\n",
    "for col_name in cols_loop :\n",
    " i = cols_loop.index(col_name)\n",
    " sns.boxplot(x='Y', y=col_name, data=DF, ax=axs[i])\n",
    " axs[i].set_ylabel(col_name)\n",
    " axs[i].set_title(col_name)\n",
    "    \n",
    "# корректируем расположение графиков на полотне\n",
    "gs.tight_layout(plt.gcf())\n",
    "plt.show()"
   ]
  },
  {
   "cell_type": "code",
   "execution_count": null,
   "id": "35b49d6a",
   "metadata": {},
   "outputs": [],
   "source": [
    "# создаём полотно и делим его на четыре части\n",
    "fig = plt.figure(figsize=(12, 5))\n",
    "gs = mpl.gridspec.GridSpec(1, 5)\n",
    "ax1 = plt.subplot(gs[0, 0])\n",
    "ax2 = plt.subplot(gs[0, 1])\n",
    "ax3 = plt.subplot(gs[0, 2])\n",
    "ax4 = plt.subplot(gs[0, 3])\n",
    "ax5 = plt.subplot(gs[0, 4])\n",
    "axs = [ax1, ax2, ax3, ax4, ax5]\n",
    "cols_loop = list(DF.columns[5:10].values)\n",
    "for col_name in cols_loop :\n",
    " i = cols_loop.index(col_name)\n",
    " sns.boxplot(x='Y', y=col_name, data=DF, ax=axs[i])\n",
    " axs[i].set_ylabel(col_name)\n",
    " axs[i].set_title(col_name)\n",
    "# корректируем расположение графиков на полотне\n",
    "gs.tight_layout(plt.gcf())\n",
    "plt.show()"
   ]
  },
  {
   "cell_type": "code",
   "execution_count": null,
   "id": "1c7bdfdf",
   "metadata": {},
   "outputs": [],
   "source": [
    "# создаём полотно и делим его на четыре части\n",
    "fig = plt.figure(figsize=(7.2, 5))\n",
    "gs = mpl.gridspec.GridSpec(1, 3)\n",
    "ax1 = plt.subplot(gs[0, 0])\n",
    "ax2 = plt.subplot(gs[0, 1])\n",
    "ax3 = plt.subplot(gs[0, 2])\n",
    "axs = [ax1, ax2, ax3]\n",
    "cols_loop = list(DF.columns[10:11].values)\n",
    "for col_name in cols_loop :\n",
    " i = cols_loop.index(col_name)\n",
    " sns.boxplot(x='Y', y=col_name, data=DF, ax=axs[i])\n",
    " axs[i].set_ylabel(col_name)\n",
    " axs[i].set_title(col_name)\n",
    "# корректируем расположение графиков на полотне\n",
    "gs.tight_layout(plt.gcf())\n",
    "plt.show()\n"
   ]
  },
  {
   "cell_type": "markdown",
   "id": "1034865d",
   "metadata": {},
   "source": [
    "На графиках  сходство в медианах и разбросе между классами прослеживается практически по\n",
    "всем объясняющим переменным кроме `LIMIT_BAL, PAY_0, PAY_2, PAY_3`. Меньше всего различаются коробчатые диаграммы по\n",
    "переменной `EDUCATION, MARRIAGE, AGE, BILL_AMT1, BILL_AMT2, BILL_AMT3` . Это говорит о том, классы по зависимой переменной **Y** неплохо\n",
    "разделяются по всем объясняющим переменным."
   ]
  },
  {
   "cell_type": "markdown",
   "id": "80ff2e91",
   "metadata": {},
   "source": [
    "## Корреляционный анализ\n",
    "Теперь посмотрим на взаимодействие объясняющих переменных."
   ]
  },
  {
   "cell_type": "code",
   "execution_count": null,
   "id": "0176a725",
   "metadata": {},
   "outputs": [],
   "source": [
    "# рассчитываем корреляционную матрицу\n",
    "corr_mat = DF.drop('Y', axis=1).corr()\n",
    "col_names = DF.drop('Y', axis=1).columns\n",
    "# переключаем стиль оформления, чтобы убрать сетку с тепловой карты\n",
    "mpl.style.use('seaborn-white')\n",
    "# рисуем корреляционную матрицу\n",
    "f = plt.figure(figsize=(10, 8))\n",
    "plt.matshow(corr_mat, fignum=f.number, cmap='PiYG')\n",
    "# координаты для названий строк и столбцов\n",
    "tics_coords = np.arange(0, len(col_names))\n",
    "# рисуем подписи\n",
    "plt.xticks(tics_coords, col_names, fontsize=14, rotation=90)\n",
    "plt.yticks(tics_coords, col_names, fontsize=14)\n",
    "# настраиваем легенду справа от тепловой карты\n",
    "cb = plt.colorbar()\n",
    "cb.ax.tick_params(labelsize=14)\n",
    "cb.ax.tick_params(labelsize=14)\n",
    "plt.show()"
   ]
  },
  {
   "cell_type": "markdown",
   "id": "8f5d5a4a",
   "metadata": {},
   "source": [
    "Между объясняющими переменными обнаруживаются как прямые, так и обратные линейные\n",
    "взаимосвязи. Выведем все значимые коэффициенты в одной таблице и определим\n",
    "минимальный / максимальный из них."
   ]
  },
  {
   "cell_type": "markdown",
   "id": "5565ab71",
   "metadata": {},
   "source": [
    "## Модель дерева\n",
    "В этом разделе построим: \n",
    "+ дерево классификации\n",
    "+ дерево классификации с обрезкой ветвей"
   ]
  },
  {
   "cell_type": "markdown",
   "id": "7fd55f1b",
   "metadata": {},
   "source": [
    "## Дерево на всех признаках\n",
    "Построим модель и выведем изображение дерева в виде текста."
   ]
  },
  {
   "cell_type": "code",
   "execution_count": null,
   "id": "f15f8f60",
   "metadata": {},
   "outputs": [],
   "source": [
    "# выращиваем дерево на всех объясняющих\n",
    "X = DF.drop(['Y'], axis=1)\n",
    "y = DF['Y']\n",
    "# классификатор\n",
    "cls_one_tree = DecisionTreeClassifier(criterion='entropy',\n",
    " random_state=my_seed)\n",
    "tree_full = cls_one_tree.fit(X, y)\n",
    "# выводим количество листьев (количество узлов)\n",
    "tree_full.get_n_leaves()"
   ]
  },
  {
   "cell_type": "code",
   "execution_count": null,
   "id": "f36d6981",
   "metadata": {},
   "outputs": [],
   "source": [
    "# глубина дерева: количество узлов от корня до листа\n",
    "# в самой длинной ветви\n",
    "tree_full.get_depth()"
   ]
  },
  {
   "cell_type": "markdown",
   "id": "ac176a45",
   "metadata": {},
   "source": [
    "Очевидно, дерево получилось слишком большое для отображения в текстовом формате.\n",
    "Графическая визуализация тоже не поможет в данном случае. Посчитаем показатели точности\n",
    "с перекрёстной проверкой."
   ]
  },
  {
   "cell_type": "code",
   "execution_count": null,
   "id": "661bd31d",
   "metadata": {},
   "outputs": [],
   "source": [
    "# будем сохранять точность моделей в один массив:\n",
    "score = list()\n",
    "score_models = list()\n",
    "# считаем точность с перекрёстной проверкой, показатель Acc\n",
    "cv = cross_val_score(estimator=cls_one_tree, X=X, y=y, cv=5,\n",
    " scoring='accuracy')\n",
    "# записываем точность\n",
    "score.append(np.around(np.mean(cv), 3))\n",
    "score_models.append('one_tree')\n",
    "print('Acc с перекрёстной проверкой',\n",
    " '\\nдля модели', score_models[0], ':', score[0])\n"
   ]
  },
  {
   "cell_type": "markdown",
   "id": "d92569d6",
   "metadata": {},
   "source": [
    "## Дерево с обрезкой ветвей\n",
    "Подберём оптимальное количество ветвей, которое максимизирует , для экономии\n",
    "времени рассчитанный методом проверочной выборки."
   ]
  },
  {
   "cell_type": "code",
   "execution_count": null,
   "id": "28a05d0c",
   "metadata": {},
   "outputs": [],
   "source": [
    "# рассчитываем параметры alpha для эффективных вариантов обрезки ветвей\n",
    "path = cls_one_tree.cost_complexity_pruning_path(X, y)\n",
    "ccp_alphas, impurities = path.ccp_alphas, path.impurities\n",
    "print('Всего значений alpha:', len(ccp_alphas))\n",
    "print('Энтропия листьев для первых 5 значений alpha:', impurities[:5])"
   ]
  },
  {
   "cell_type": "code",
   "execution_count": null,
   "id": "bcfca123",
   "metadata": {},
   "outputs": [],
   "source": [
    "# изображаем на графике\n",
    "plt.plot(ccp_alphas[:-1], impurities[:-1], marker='o', drawstyle=\"steps-post\")\n",
    "plt.xlabel(\"значение гиперпараметра alpha\")\n",
    "plt.ylabel(\"общая энтропия листьев дерева\")\n",
    "plt.title(\"Изменение показателя нечистоты узлов с ростом alpha\")\n",
    "plt.show()\n"
   ]
  },
  {
   "cell_type": "code",
   "execution_count": null,
   "id": "6a0e78f2",
   "metadata": {},
   "outputs": [],
   "source": [
    "# обучающая и тестовая выборки, чтобы сэкономить время\n",
    "X_train, X_test, y_train, y_test = train_test_split(X, y,\n",
    " random_state=my_seed)\n",
    "# модели\n",
    "clfs = list()\n",
    "# таймер\n",
    "tic = time.perf_counter()\n",
    "# цикл по значениям alpha\n",
    "for ccp_alpha in ccp_alphas:\n",
    " clf = DecisionTreeClassifier(random_state=my_seed, ccp_alpha=ccp_alpha)\n",
    " clf.fit(X_train, y_train)\n",
    " clfs.append(clf)\n",
    "# таймер\n",
    "toc = time.perf_counter()\n",
    "print(f\"Расчёты по обрезке дерева заняли {toc - tic:0.2f} секунд\")"
   ]
  },
  {
   "cell_type": "code",
   "execution_count": null,
   "id": "72e86fc8",
   "metadata": {},
   "outputs": [],
   "source": [
    "# извлекаем характеристики глубины и точности\n",
    "# таймер\n",
    "tic = time.perf_counter()\n",
    "node_counts = [clf.tree_.node_count for clf in clfs]\n",
    "train_scores = [clf.score(X_train, y_train) for clf in clfs]\n",
    "test_scores = [clf.score(X_test, y_test) for clf in clfs]\n",
    "# таймер\n",
    "toc = time.perf_counter()\n",
    "print(f\"Расчёты показателей точности заняли {toc - tic:0.2f} секунд\")"
   ]
  },
  {
   "cell_type": "code",
   "execution_count": null,
   "id": "f900c07d",
   "metadata": {},
   "outputs": [],
   "source": [
    "\n",
    "# изображаем на графике\n",
    "fig, ax = plt.subplots(1, 2)\n",
    "# график глубины дерева\n",
    "ax[0].plot(ccp_alphas, node_counts, marker=',', drawstyle=\"steps-post\")\n",
    "ax[0].set_xlabel(\"значение гиперпараметра alpha\")\n",
    "ax[0].set_ylabel(\"количество узлов\")\n",
    "ax[0].set_title(\"Сложность модели vs alpha\")\n",
    "# график точности\n",
    "ax[1].plot(ccp_alphas, train_scores, marker=',', label='train',\n",
    " drawstyle=\"steps-post\")\n",
    "ax[1].plot(ccp_alphas, test_scores, marker=',', label='test',\n",
    " drawstyle=\"steps-post\")\n",
    "ax[1].set_xlabel(\"значение гиперпараметра alpha\")\n",
    "ax[1].set_ylabel(\"Acc\")\n",
    "ax[1].set_title(\"Точность модели vs alpha\")\n",
    "fig.tight_layout()\n"
   ]
  },
  {
   "cell_type": "markdown",
   "id": "1c6efa84",
   "metadata": {},
   "source": [
    "Находим оптимальный размер дерева по максимуму на тестовой выборке."
   ]
  },
  {
   "cell_type": "code",
   "execution_count": null,
   "id": "401e1a82",
   "metadata": {},
   "outputs": [],
   "source": [
    "# оптимальное количество узлов\n",
    "opt_nodes_num = node_counts[test_scores.index(max(test_scores))]\n",
    "# считаем точность с перекрёстной проверкой, показатель Acc\n",
    "cv = cross_val_score(estimator=clfs[opt_nodes_num], X=X, y=y, cv=5,\n",
    " scoring='accuracy')\n",
    "# записываем точность\n",
    "score.append(np.around(np.mean(cv), 3))\n",
    "score_models.append('pruned_tree')\n",
    "print('Оптимальное количество узлов:', opt_nodes_num,\n",
    " '\\nсоответствующая Acc на тестовой:', np.around(max(test_scores), 3),\n",
    " '\\n\\nAcc с перекрёстной проверкой',\n",
    " '\\nдля модели', score_models[1], ':', score[1])"
   ]
  },
  {
   "cell_type": "markdown",
   "id": "4c38d557",
   "metadata": {},
   "source": [
    "Посмотрим на характеристики глубины и сложности построенного дерева с обрезкой ветвей."
   ]
  },
  {
   "cell_type": "code",
   "execution_count": null,
   "id": "8edd3174",
   "metadata": {},
   "outputs": [],
   "source": [
    "# выводим количество листьев (количество узлов)\n",
    "clfs[opt_nodes_num].get_n_leaves()"
   ]
  },
  {
   "cell_type": "code",
   "execution_count": null,
   "id": "160f2188",
   "metadata": {},
   "outputs": [],
   "source": [
    "# глубина дерева: количество узлов от корня до листа\n",
    "# в самой длинной ветви\n",
    "clfs[opt_nodes_num].get_depth()\n"
   ]
  },
  {
   "cell_type": "markdown",
   "id": "1277cb8b",
   "metadata": {},
   "source": [
    "## Бустинг\n",
    "Подберём сеточным поиском настроечные параметры модели:\n",
    "+ B число деревьев\n",
    "+ λ – скорость обучения\n",
    "+ d – глубина взаимодействия предикторов"
   ]
  },
  {
   "cell_type": "code",
   "execution_count": null,
   "id": "071ae499",
   "metadata": {},
   "outputs": [],
   "source": [
    "# разбиения для перекрёстной проверки\n",
    "kfold = KFold(n_splits=5, random_state=my_seed, shuffle=True)\n",
    "# обучаем модель с параметрами по умолчанию\n",
    "clf_tst = GradientBoostingClassifier(n_estimators=100, learning_rate=1.0,\n",
    " max_depth=1, random_state=my_seed)\n",
    "cv = cross_val_score(clf_tst, X, y, cv=kfold, scoring='accuracy')\n",
    "np.around(np.mean(cv), 3)"
   ]
  },
  {
   "cell_type": "code",
   "execution_count": null,
   "id": "a2cddc82",
   "metadata": {},
   "outputs": [],
   "source": [
    "# настроим параметры бустинга с помощью сеточного поиска\n",
    "param_grid = {'n_estimators' : [10, 20, 30, 40, 50],\n",
    " 'learning_rate' : np.linspace(start=0.01, stop=0.25, num=15),\n",
    " 'max_depth' : [1, 2]}\n",
    "# таймер\n",
    "tic = time.perf_counter()\n",
    "clf = GridSearchCV(GradientBoostingClassifier(),\n",
    " param_grid, scoring='accuracy', cv=kfold)\n",
    "boost_tree = clf.fit(X, y)\n",
    "# таймер\n",
    "toc = time.perf_counter()\n",
    "print(f\"Сеточный поиск занял {toc - tic:0.2f} секунд\", sep='')"
   ]
  },
  {
   "cell_type": "code",
   "execution_count": null,
   "id": "76989623",
   "metadata": {},
   "outputs": [],
   "source": [
    "# точность лучшей модели\n",
    "np.around(boost_tree.best_score_, 3)\n"
   ]
  },
  {
   "cell_type": "code",
   "execution_count": null,
   "id": "b9cb41ee",
   "metadata": {},
   "outputs": [],
   "source": [
    "# параметры лучшей модели\n",
    "print('n_estimators:',\n",
    " boost_tree.best_estimator_.get_params()['n_estimators'],\n",
    " '\\nlearning_rate:',\n",
    " boost_tree.best_estimator_.get_params()['learning_rate'],\n",
    " '\\nmax_depth:',\n",
    " boost_tree.best_estimator_.get_params()['max_depth'])\n"
   ]
  },
  {
   "cell_type": "code",
   "execution_count": null,
   "id": "7afae818",
   "metadata": {},
   "outputs": [],
   "source": [
    "# записываем точность\n",
    "score.append(np.around(boost_tree.best_score_, 3))\n",
    "score_models.append('boost_tree_GS')\n",
    "print('Acc с перекрёстной проверкой',\n",
    " '\\nдля модели', score_models[3], ':', score[3])"
   ]
  },
  {
   "cell_type": "markdown",
   "id": "eb249d5d",
   "metadata": {},
   "source": [
    "## Прогноз на отложенные наблюдения по лучшей модели\n",
    "Ещё раз посмотрим на точность построенных моделей."
   ]
  },
  {
   "cell_type": "code",
   "execution_count": null,
   "id": "f73e96b8",
   "metadata": {},
   "outputs": [],
   "source": [
    "# сводка по точности моделей\n",
    "pd.DataFrame({'Модель' : score_models, 'Acc' : score})"
   ]
  },
  {
   "cell_type": "markdown",
   "id": "ceb73b93",
   "metadata": {},
   "source": [
    "Все модели показывают среднюю точность по показателю , при этом самой точной\n",
    "оказывается модель случайного леса. Сделаем прогноз на отложенные наблюдения."
   ]
  },
  {
   "cell_type": "code",
   "execution_count": null,
   "id": "d2d66d3d",
   "metadata": {},
   "outputs": [],
   "source": [
    "# данные для прогноза\n",
    "X_pred = DF_predict.drop(['Y'], axis=1)\n",
    "# строим прогноз\n",
    "y_hat = random_forest.best_estimator_.predict(X_pred)\n",
    "# характеристики точности\n",
    "print(classification_report(DF_predict_num['Y'], y_hat))"
   ]
  }
 ],
 "metadata": {
  "kernelspec": {
   "display_name": "Python 3",
   "language": "python",
   "name": "python3"
  },
  "language_info": {
   "codemirror_mode": {
    "name": "ipython",
    "version": 3
   },
   "file_extension": ".py",
   "mimetype": "text/x-python",
   "name": "python",
   "nbconvert_exporter": "python",
   "pygments_lexer": "ipython3",
   "version": "3.5.6"
  }
 },
 "nbformat": 4,
 "nbformat_minor": 5
}
